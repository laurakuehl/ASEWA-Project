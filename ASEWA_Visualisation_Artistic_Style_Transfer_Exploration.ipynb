{
  "metadata": {
    "kernelspec": {
      "language": "python",
      "display_name": "Python 3",
      "name": "python3"
    },
    "language_info": {
      "name": "python",
      "version": "3.7.12",
      "mimetype": "text/x-python",
      "codemirror_mode": {
        "name": "ipython",
        "version": 3
      },
      "pygments_lexer": "ipython3",
      "nbconvert_exporter": "python",
      "file_extension": ".py"
    },
    "colab": {
      "name": "ASEWA_Visualisation_Artistic_Style_Transfer_Exploration.ipynb",
      "provenance": [],
      "collapsed_sections": []
    }
  },
  "nbformat_minor": 0,
  "nbformat": 4,
  "cells": [
    {
      "cell_type": "markdown",
      "source": [
        "# ASEWA - Visualization\n",
        "Visualizing layers, exploring weights, perform mass transfer\n",
        "---\n",
        "Janina Klarmann, Laura Kühl"
      ],
      "metadata": {
        "id": "0n_hLUjvconR"
      }
    },
    {
      "cell_type": "code",
      "source": [
        "import tensorflow as tf\n",
        "import numpy as np\n",
        "import os\n",
        "from torchvision import transforms\n",
        "import tensorflow_datasets as tfds\n",
        "from keras.preprocessing.image import ImageDataGenerator\n",
        "import math\n",
        "\n",
        "import PIL.Image\n",
        "import IPython.display as display\n",
        "import matplotlib.pyplot as plt\n",
        "import matplotlib as mpl\n",
        "mpl.rcParams['figure.figsize'] = (12, 12)\n",
        "mpl.rcParams['axes.grid'] = False\n",
        "\n",
        "from keras.models import Model\n",
        "import glob"
      ],
      "metadata": {
        "execution": {
          "iopub.status.busy": "2022-04-11T02:04:52.296753Z",
          "iopub.execute_input": "2022-04-11T02:04:52.297010Z",
          "iopub.status.idle": "2022-04-11T02:04:52.303500Z",
          "shell.execute_reply.started": "2022-04-11T02:04:52.296979Z",
          "shell.execute_reply": "2022-04-11T02:04:52.302417Z"
        },
        "trusted": true,
        "id": "FSop3YspcImc"
      },
      "execution_count": null,
      "outputs": []
    },
    {
      "cell_type": "code",
      "source": [
        "vgg = tf.keras.applications.vgg19.VGG19(include_top=False, weights='imagenet')\n",
        "vgg.trainable = False"
      ],
      "metadata": {
        "execution": {
          "iopub.status.busy": "2022-04-11T02:04:53.661626Z",
          "iopub.execute_input": "2022-04-11T02:04:53.662200Z",
          "iopub.status.idle": "2022-04-11T02:04:54.010878Z",
          "shell.execute_reply.started": "2022-04-11T02:04:53.662161Z",
          "shell.execute_reply": "2022-04-11T02:04:54.010151Z"
        },
        "trusted": true,
        "id": "tFKQ4G9ocImj"
      },
      "execution_count": null,
      "outputs": []
    },
    {
      "cell_type": "code",
      "source": [
        "# Define a function to load an image and limit its maximum dimension to 512 pixels.\n",
        "def load_img(path_to_img):\n",
        "    '''Load and preprocess an image from a path\n",
        "    Input: Image path\n",
        "    Ouput: preprocessed image to a tensor'''\n",
        "    max_dim = 512\n",
        "    img = tf.io.read_file(path_to_img)\n",
        "    img = tf.image.decode_image(img, channels=3)\n",
        "    img = tf.image.convert_image_dtype(img, tf.float32)\n",
        "\n",
        "    shape = tf.cast(tf.shape(img)[:-1], tf.float32)\n",
        "    long_dim = max(shape)\n",
        "    scale = max_dim / long_dim\n",
        "\n",
        "    new_shape = tf.cast(shape * scale, tf.int32)\n",
        "\n",
        "    img = tf.image.resize(img, new_shape)\n",
        "    img = img[tf.newaxis, :]\n",
        "    \n",
        "    return img\n",
        "\n",
        "\n",
        "\n",
        "def imshow(image, title=None):\n",
        "    '''For image visualisation'''\n",
        "    if len(image.shape) > 3:\n",
        "        image = tf.squeeze(image, axis=0)\n",
        "\n",
        "    plt.imshow(image)\n",
        "    if title:\n",
        "        plt.title(title)\n",
        "    \n"
      ],
      "metadata": {
        "execution": {
          "iopub.status.busy": "2022-04-11T02:04:55.161313Z",
          "iopub.execute_input": "2022-04-11T02:04:55.161571Z",
          "iopub.status.idle": "2022-04-11T02:04:55.171164Z",
          "shell.execute_reply.started": "2022-04-11T02:04:55.161544Z",
          "shell.execute_reply": "2022-04-11T02:04:55.170474Z"
        },
        "trusted": true,
        "id": "RaIycTiqcImm"
      },
      "execution_count": null,
      "outputs": []
    },
    {
      "cell_type": "code",
      "source": [
        "from tensorflow.python.tools import module_util\n",
        "def VGG19_Model(layer_names):\n",
        "    \"\"\" Creates our model with access to intermediate layers. \n",
        "\n",
        "    This function will load the VGG19 model and access the intermediate layers. \n",
        "    These layers will then be used to create a new model that will take input image\n",
        "    and return the outputs from these intermediate layers from the VGG model. \n",
        "\n",
        "    Returns:\n",
        "    returns a keras model that takes image inputs and outputs the style and \n",
        "      content intermediate layers. \n",
        "    \"\"\"\n",
        "    # Load our model. We load pretrained VGG, trained on imagenet data (weights=’imagenet’)\n",
        "    vgg = tf.keras.applications.vgg19.VGG19(include_top=False, weights='imagenet')\n",
        "    vgg.trainable = False    \n",
        "\n",
        "    # Get output layers corresponding to style and content layers \n",
        "    outputs = [vgg.get_layer(name).output for name in layer_names]\n",
        "    # Build model \n",
        "    model = tf.keras.Model([vgg.input], outputs)\n",
        "\n",
        "\n",
        "    return model "
      ],
      "metadata": {
        "execution": {
          "iopub.status.busy": "2022-04-11T02:04:56.548057Z",
          "iopub.execute_input": "2022-04-11T02:04:56.548467Z",
          "iopub.status.idle": "2022-04-11T02:04:56.555706Z",
          "shell.execute_reply.started": "2022-04-11T02:04:56.548432Z",
          "shell.execute_reply": "2022-04-11T02:04:56.555013Z"
        },
        "trusted": true,
        "id": "FHCkQRAmcIms"
      },
      "execution_count": null,
      "outputs": []
    },
    {
      "cell_type": "code",
      "source": [
        "class StyleExtractionModel (tf.keras.models.Model):\n",
        "    def __init__(self, style_layers, content_layers):\n",
        "        super(StyleExtractionModel, self).__init__()\n",
        "        self.vgg19 = VGG19_Model(style_layers+content_layers)\n",
        "        self.style_layers = style_layers\n",
        "        self.content_layers = content_layers\n",
        "        self.num_style_layers = len(style_layers)\n",
        "        self.vgg19.trainable = False \n",
        "\n",
        "    def gram_matrix(self, input_tensor):\n",
        "        result = tf.linalg.einsum('bijc,bijd->bcd', input_tensor, input_tensor)\n",
        "        input_shape = tf.shape(input_tensor)\n",
        "        num_locations = tf.cast(input_shape[1]*input_shape[2], tf.float32)\n",
        "        return result/(num_locations)\n",
        "\n",
        "    def call(self, inputs):\n",
        "        \"Expects float input in [0,1]\"\n",
        "        inputs = inputs*255.0\n",
        "        preprocessed_input = tf.keras.applications.vgg19.preprocess_input(inputs)\n",
        "        outputs = self.vgg19(preprocessed_input)\n",
        "        style_outputs, content_outputs = (outputs[:self.num_style_layers],\n",
        "                                          outputs[self.num_style_layers:])\n",
        "\n",
        "        style_outputs = [self.gram_matrix(style_output)\n",
        "                        for style_output in style_outputs]\n",
        "\n",
        "        content_dict = {content_name: value\n",
        "                        for content_name, value\n",
        "                        in zip(self.content_layers, content_outputs)}\n",
        "\n",
        "        style_dict = {style_name: value\n",
        "                      for style_name, value\n",
        "                      in zip(self.style_layers, style_outputs)}\n",
        "\n",
        "        return {'content': content_dict, 'style': style_dict}\n",
        "\n",
        "\n",
        "\n",
        "\n",
        "\n",
        "\n",
        "class StyleTrainingModel(tf.keras.models.Model):\n",
        "    def __init__(self, style_layers, content_layers):\n",
        "        super(StyleTrainingModel, self).__init__()\n",
        "        self.ExtractionModel = StyleExtractionModel(style_layers, content_layers)\n",
        "        self.opt = tf.optimizers.Adam(learning_rate=10, beta_1=0.99, epsilon=1e-1)\n",
        "        self.style_weight = 1000\n",
        "        self.content_weight = 1e6\n",
        "        # use when doing the weight exploration\n",
        "        self.style_targets = self.ExtractionModel(style_image)['style']\n",
        "        self.content_targets = self.ExtractionModel(content_image)['content']\n",
        "        self.num_style_layers = len(style_layers)\n",
        "        self.num_content_layers = len(content_layers)\n",
        "\n",
        "    def clip_0_1(self, image):\n",
        "        return tf.clip_by_value(image, clip_value_min=0.0, clip_value_max=1.0)\n",
        "\n",
        "    def tensor_to_image(self, tensor):\n",
        "        '''Takes a Tensor as an inout and plots you an image'''\n",
        "        tensor = tensor*255\n",
        "        tensor = np.array(tensor, dtype=np.uint8)\n",
        "        if np.ndim(tensor)>3:\n",
        "            assert tensor.shape[0] == 1\n",
        "            tensor = tensor[0]\n",
        "        return PIL.Image.fromarray(tensor)\n",
        "    \n",
        "    def style_content_loss(self, outputs, style_targets):\n",
        "        '''Calculate the loss from the style and content layers\n",
        "        returns the overall loss'''\n",
        "        style_outputs = outputs['style']\n",
        "        content_outputs = outputs['content']\n",
        "        style_loss = tf.add_n([tf.reduce_mean((style_outputs[name]-style_targets[name])**2) \n",
        "                               for name in style_outputs.keys()])\n",
        "                \n",
        "        style_loss *= self.style_weight / self.num_style_layers\n",
        "\n",
        "        content_loss = tf.add_n([tf.reduce_mean((content_outputs[name]-self.content_targets[name])**2) \n",
        "                                 for name in content_outputs.keys()])\n",
        "        content_loss *= self.content_weight / self.num_content_layers\n",
        "\n",
        "        loss = style_loss + content_loss\n",
        "        \n",
        "        return loss\n",
        "\n",
        "    \n",
        "    #@tf.function()\n",
        "    def train_step(self, img, art_image):\n",
        "        '''Inputs a style image and an input image. To perform style transfer on the input.'''\n",
        "        style_targets = self.ExtractionModel(art_image)['style']\n",
        "        with tf.GradientTape() as tape:\n",
        "            outputs = self.ExtractionModel(img)\n",
        "            loss = self.style_content_loss(outputs, style_targets)\n",
        "        grad = tape.gradient(loss, img)\n",
        "        self.opt.apply_gradients([(grad, img)])\n",
        "        image.assign(self.clip_0_1(img))\n",
        "\n",
        "        \n",
        "### Weight_Exploration###########################################################################################\n",
        "# Use this call and style_content_loss function when doing the weight exploration\n",
        "\n",
        "    def style_content_loss_weight_exploration(self, outputs, style_weight, content_weight):\n",
        "        '''Takes a style and content weight. Calculate the loss from the style and content layers\n",
        "        returns the overall loss'''\n",
        "        style_outputs = outputs['style']\n",
        "        content_outputs = outputs['content']\n",
        "        style_loss = tf.add_n([tf.reduce_mean((style_outputs[name]-self.style_targets[name])**2) \n",
        "                               for name in style_outputs.keys()])\n",
        "                \n",
        "        style_loss *= style_weight / self.num_style_layers\n",
        "\n",
        "        content_loss = tf.add_n([tf.reduce_mean((content_outputs[name]-self.content_targets[name])**2) \n",
        "                                 for name in content_outputs.keys()])\n",
        "        content_loss *= content_weight / self.num_content_layers\n",
        "\n",
        "        loss = style_loss + content_loss\n",
        "        \n",
        "        return loss\n",
        "\n",
        "    #@tf.function()\n",
        "    def weight_exploration(self, img, style_weight, content_weight):\n",
        "        '''Takes a style and content weight in addition to the input image'''\n",
        "        with tf.GradientTape() as tape:\n",
        "            outputs = self.ExtractionModel(img)\n",
        "            loss = self.style_content_loss_weight_exploration(outputs, style_weight, content_weight)\n",
        "        grad = tape.gradient(loss, img)\n",
        "        self.opt.apply_gradients([(grad, img)])\n",
        "        image.assign(self.clip_0_1(img))"
      ],
      "metadata": {
        "execution": {
          "iopub.status.busy": "2022-04-11T02:06:42.243299Z",
          "iopub.execute_input": "2022-04-11T02:06:42.243615Z",
          "iopub.status.idle": "2022-04-11T02:06:42.270595Z",
          "shell.execute_reply.started": "2022-04-11T02:06:42.243582Z",
          "shell.execute_reply": "2022-04-11T02:06:42.269852Z"
        },
        "trusted": true,
        "id": "61ynZOvncImx"
      },
      "execution_count": null,
      "outputs": []
    },
    {
      "cell_type": "code",
      "source": [
        "#Van Gogh\n",
        "style_path = tf.keras.utils.get_file('Vincent-van-Gogh-Die-Sternennacht-Detail.jpg','https://artinwords.de/wp-content/uploads/Vincent-van-Gogh-Die-Sternennacht-Detail.jpg')\n",
        "\n",
        "#from training data\n",
        "#style_path = '../input/art-movements/dataset/train/expressionism/expressionismo_202.jpg'\n",
        "\n",
        "#house\n",
        "content_path = '../input/chchhouse/photo_2022-04-05_00-54-40.jpg'\n",
        "\n",
        "\n",
        "#kitten\n",
        "#content_path = tf.keras.utils.get_file('photo-1592194996308-7b43878e84a6?ixlib=rb-1.2.1&ixid=MnwxMjA3fDB8MHxwaG90by1wYWdlfHx8fGVufDB8fHx8&auto=format&fit=crop&w=1887&q=80','https://images.unsplash.com/photo-1592194996308-7b43878e84a6?ixlib=rb-1.2.1&ixid=MnwxMjA3fDB8MHxwaG90by1wYWdlfHx8fGVufDB8fHx8&auto=format&fit=crop&w=1887&q=80')\n",
        "\n",
        "#Singapur park\n",
        "# content_path = tf.keras.utils.get_file('garten-singapur-m-06435870-jpg--82522-.jpg', 'https://image.geo.de/30144962/t/Jr/v4/w1440/r1.7778/-/garten-singapur-m-06435870-jpg--82522-.jpg')"
      ],
      "metadata": {
        "execution": {
          "iopub.status.busy": "2022-04-11T02:06:43.432003Z",
          "iopub.execute_input": "2022-04-11T02:06:43.432587Z",
          "iopub.status.idle": "2022-04-11T02:06:43.437652Z",
          "shell.execute_reply.started": "2022-04-11T02:06:43.432548Z",
          "shell.execute_reply": "2022-04-11T02:06:43.436624Z"
        },
        "trusted": true,
        "id": "YTasJY-kcIm4"
      },
      "execution_count": null,
      "outputs": []
    },
    {
      "cell_type": "code",
      "source": [
        "#load a content and style image\n",
        "content_image = load_img(content_path)\n",
        "style_image = load_img(style_path)\n",
        "\n",
        "# create a white noise image, it has to have the size of the content image\n",
        "im = tf.random.uniform((288, 512))\n",
        "white_noise_image = tf.stack([im, im, im], -1)\n",
        "white_noise_image = tf.expand_dims(white_noise_image, 0)\n",
        "white_noise_image.shape\n",
        "\n",
        "\n",
        "#plot all three images\n",
        "plt.subplot(2, 2, 1)\n",
        "imshow(content_image, 'Content Image')\n",
        "\n",
        "plt.subplot(2, 2, 2)\n",
        "imshow(style_image, 'Style Image')\n",
        "\n",
        "plt.subplot(2, 2, 3)\n",
        "imshow(white_noise_image)"
      ],
      "metadata": {
        "execution": {
          "iopub.status.busy": "2022-04-11T02:06:44.198081Z",
          "iopub.execute_input": "2022-04-11T02:06:44.198764Z",
          "iopub.status.idle": "2022-04-11T02:06:44.781899Z",
          "shell.execute_reply.started": "2022-04-11T02:06:44.198729Z",
          "shell.execute_reply": "2022-04-11T02:06:44.781244Z"
        },
        "trusted": true,
        "id": "2J8nduqqcIm7"
      },
      "execution_count": null,
      "outputs": []
    },
    {
      "cell_type": "code",
      "source": [
        "# define the style and content layer\n",
        "content_layer = ['block4_conv1']\n",
        "style_layer_names = ['block1_conv1', 'block2_conv1','block3_conv1','block4_conv1', 'block5_conv1']\n",
        "\n",
        "# instantiate the model with the choosen layer\n",
        "MyModel = StyleTrainingModel(style_layer_names, content_layer)\n",
        "\n",
        "#the inputimage that gets augmented\n",
        "image = tf.Variable(content_image)\n",
        "# image = tf.Variable(random_noise)"
      ],
      "metadata": {
        "execution": {
          "iopub.status.busy": "2022-04-11T02:06:45.384618Z",
          "iopub.execute_input": "2022-04-11T02:06:45.385203Z",
          "iopub.status.idle": "2022-04-11T02:06:45.782606Z",
          "shell.execute_reply.started": "2022-04-11T02:06:45.385164Z",
          "shell.execute_reply": "2022-04-11T02:06:45.781803Z"
        },
        "trusted": true,
        "id": "QlM95xIDcIm9"
      },
      "execution_count": null,
      "outputs": []
    },
    {
      "cell_type": "code",
      "source": [
        "# perform a style transfer, with the input and the style image\n",
        "for i in range(1000):  \n",
        "    MyModel.train_step(image, style_image)\n",
        "plt.imshow(MyModel.tensor_to_image(image))\n",
        "plt.show()"
      ],
      "metadata": {
        "execution": {
          "iopub.status.busy": "2022-04-11T02:06:47.059911Z",
          "iopub.execute_input": "2022-04-11T02:06:47.060180Z",
          "iopub.status.idle": "2022-04-11T02:08:00.788632Z",
          "shell.execute_reply.started": "2022-04-11T02:06:47.060149Z",
          "shell.execute_reply": "2022-04-11T02:08:00.787985Z"
        },
        "trusted": true,
        "id": "JNh7C5HqcIm_"
      },
      "execution_count": null,
      "outputs": []
    },
    {
      "cell_type": "markdown",
      "source": [
        "### Weight Exploration"
      ],
      "metadata": {
        "id": "T4BpV4WScInA"
      }
    },
    {
      "cell_type": "code",
      "source": [
        "style_weights = [1e-1, 1e1, 1e2, 1e3, 1e4]\n",
        "content_weights = [1e3, 1e4, 1e5, 1e6]\n",
        "\n",
        "for style_weight in style_weights:\n",
        "    \n",
        "    for content_weight in content_weights:\n",
        "        \n",
        "        image = tf.Variable(content_image)\n",
        "        \n",
        "        for i in range(1000):\n",
        "            \n",
        "            MyModel.weight_exploration(image, style_weight, content_weight)\n",
        "            \n",
        "            if i % 999 == 0:\n",
        "                print(f'Style weight: {style_weight}; content weight: {content_weight}. Image after {i} Trainingsteps:')\n",
        "                plt.imshow(MyModel.tensor_to_image(image))\n",
        "                plt.show()\n",
        "    "
      ],
      "metadata": {
        "execution": {
          "iopub.status.busy": "2022-04-11T02:04:47.538861Z",
          "iopub.status.idle": "2022-04-11T02:04:47.540437Z",
          "shell.execute_reply.started": "2022-04-11T02:04:47.540172Z",
          "shell.execute_reply": "2022-04-11T02:04:47.540200Z"
        },
        "trusted": true,
        "id": "bC2EqAjacInF"
      },
      "execution_count": null,
      "outputs": []
    },
    {
      "cell_type": "markdown",
      "source": [
        "## Perform Style-Transfer on a batch of images"
      ],
      "metadata": {
        "id": "d0MOSxOPcInH"
      }
    },
    {
      "cell_type": "code",
      "source": [
        "style_to_number = {\n",
        "    'cubism': 0,\n",
        "    'expressionism' : 1,\n",
        "    'romanticism' : 2\n",
        "}\n",
        "\n",
        "def load_images(folder):\n",
        "\n",
        "    path = '../input/art-movements/dataset/' + folder\n",
        "    cubism_paths = glob.glob(path + '/cubism/*')\n",
        "    expressionism_paths = glob.glob(path + '/expressionism/*')\n",
        "    romanticism_paths = glob.glob(path + '/romanticism/*')\n",
        "    \n",
        "    combined_paths = [cubism_paths, expressionism_paths, romanticism_paths]\n",
        "\n",
        "    art_styles = ['cubism', 'expressionnism', 'romanticism']\n",
        "    images = []\n",
        "    labels = []\n",
        "\n",
        "    for i, art_style in enumerate(combined_paths):\n",
        "        for image_path in art_style:\n",
        "            image = load_img(image_path)     \n",
        "            images.append(image)\n",
        "            labels.append(i)\n",
        "\n",
        "    return images, labels\n",
        "\n",
        "def test_data_gen():\n",
        "    for i, image in enumerate(test_images):\n",
        "        yield image, test_labels[i]"
      ],
      "metadata": {
        "execution": {
          "iopub.status.busy": "2022-04-11T02:09:19.350681Z",
          "iopub.execute_input": "2022-04-11T02:09:19.350940Z",
          "iopub.status.idle": "2022-04-11T02:09:19.359266Z",
          "shell.execute_reply.started": "2022-04-11T02:09:19.350910Z",
          "shell.execute_reply": "2022-04-11T02:09:19.358330Z"
        },
        "trusted": true,
        "id": "gH71tYJycInM"
      },
      "execution_count": null,
      "outputs": []
    },
    {
      "cell_type": "code",
      "source": [
        "test_images, test_labels = load_images(folder = 'test')\n",
        "\n",
        "\n",
        "test_ds = tf.data.Dataset.from_generator(test_data_gen, output_signature=(tf.TensorSpec(shape=(None, None, None, 3)),\n",
        "                                                             tf.TensorSpec(shape=(), dtype=tf.int32))\n",
        "                                                             )"
      ],
      "metadata": {
        "execution": {
          "iopub.status.busy": "2022-04-11T02:09:20.513807Z",
          "iopub.execute_input": "2022-04-11T02:09:20.514489Z",
          "iopub.status.idle": "2022-04-11T02:09:25.224314Z",
          "shell.execute_reply.started": "2022-04-11T02:09:20.514452Z",
          "shell.execute_reply": "2022-04-11T02:09:25.223582Z"
        },
        "trusted": true,
        "id": "l1l3z14gcInR"
      },
      "execution_count": null,
      "outputs": []
    },
    {
      "cell_type": "code",
      "source": [
        "for images, labels in test_ds:\n",
        "    print(labels)\n",
        "    plt.imshow(MyModel.tensor_to_image(images))\n",
        "    plt.show()\n",
        "    break"
      ],
      "metadata": {
        "execution": {
          "iopub.status.busy": "2022-04-11T02:09:28.278572Z",
          "iopub.execute_input": "2022-04-11T02:09:28.279373Z",
          "iopub.status.idle": "2022-04-11T02:09:28.584703Z",
          "shell.execute_reply.started": "2022-04-11T02:09:28.279320Z",
          "shell.execute_reply": "2022-04-11T02:09:28.584027Z"
        },
        "trusted": true,
        "id": "P83tG7p-cInT"
      },
      "execution_count": null,
      "outputs": []
    },
    {
      "cell_type": "code",
      "source": [
        "stylised_images = []\n",
        "counter = 0\n",
        "\n",
        "#perform the style transfer for every image in the test dataset\n",
        "for art_image, label in test_ds:\n",
        "    \n",
        "    image = tf.Variable(load_img(content_path))\n",
        "    \n",
        "    for i in range(1000):\n",
        "        \n",
        "        MyModel.train_step(image, art_image)\n",
        "\n",
        "        if (i == 999):\n",
        "\n",
        "            print(f'-Image at step{i}')\n",
        "            \n",
        "            plt.subplot(1, 2, 1)\n",
        "            imshow(art_image, 'Style Image')\n",
        "            plt.subplot(2, 2, 2)\n",
        "            plt.imshow(MyModel.tensor_to_image(image))\n",
        "            plt.show()\n",
        "            stylised_images.append(image)\n",
        "        if (i==999):  \n",
        "            plt.imshow(MyModel.tensor_to_image(image))\n",
        "            plt.savefig(f'VGG_LR2_sw10_cw5e5_1500it_{label}_Image{counter}.png')\n",
        "            plt.show()\n",
        "    \n",
        "    counter += 1"
      ],
      "metadata": {
        "trusted": true,
        "id": "qwLg17T8cInV"
      },
      "execution_count": null,
      "outputs": []
    },
    {
      "cell_type": "code",
      "source": [
        "for label in stylised_images:\n",
        "    print (label)\n",
        "    print (MyModel.tensor_to_image(label))\n",
        "    break"
      ],
      "metadata": {
        "execution": {
          "iopub.status.busy": "2022-04-09T17:21:24.612265Z",
          "iopub.execute_input": "2022-04-09T17:21:24.613019Z",
          "iopub.status.idle": "2022-04-09T17:21:24.625972Z",
          "shell.execute_reply.started": "2022-04-09T17:21:24.612984Z",
          "shell.execute_reply": "2022-04-09T17:21:24.625175Z"
        },
        "trusted": true,
        "id": "UeALS4pVcInX"
      },
      "execution_count": null,
      "outputs": []
    }
  ]
}
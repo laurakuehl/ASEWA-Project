{
  "nbformat": 4,
  "nbformat_minor": 0,
  "metadata": {
    "colab": {
      "name": "ASEWA-VGG19-Pretrained-Model.ipynb",
      "provenance": [],
      "collapsed_sections": []
    },
    "kernelspec": {
      "name": "python3",
      "display_name": "Python 3"
    },
    "language_info": {
      "name": "python"
    }
  },
  "cells": [
    {
      "cell_type": "markdown",
      "source": [
        "# ASEWA Project - VGG19\n",
        "Taking a pretrained VGG19 and performing Style Transfer\n",
        "---\n",
        "Janina Klarmann, Laura Kühl"
      ],
      "metadata": {
        "id": "lQ9CuG4iujUG"
      }
    },
    {
      "cell_type": "markdown",
      "source": [
        "## Setup"
      ],
      "metadata": {
        "id": "EG1pxQNKuyA7"
      }
    },
    {
      "cell_type": "code",
      "execution_count": null,
      "metadata": {
        "id": "tTJLX8rPue4n"
      },
      "outputs": [],
      "source": [
        "import tensorflow as tf\n",
        "import numpy as np\n",
        "from torchvision import transforms\n",
        "import tensorflow_datasets as tfds\n",
        "from keras.preprocessing.image import ImageDataGenerator\n",
        "import math\n",
        "\n",
        "import PIL.Image\n",
        "import IPython.display as display\n",
        "import matplotlib.pyplot as plt\n",
        "import matplotlib as mpl\n",
        "mpl.rcParams['figure.figsize'] = (12, 12)\n",
        "mpl.rcParams['axes.grid'] = False\n",
        "\n",
        "import time\n",
        "import functools\n",
        "\n",
        "import tqdm\n",
        "import datetime"
      ]
    },
    {
      "cell_type": "markdown",
      "source": [
        "## Image Preprocessing"
      ],
      "metadata": {
        "id": "8lqIn56Ou4A1"
      }
    },
    {
      "cell_type": "code",
      "source": [
        "# Define a function to load an image and limit its maximum dimension to 512 pixels.\n",
        "def load_img(path_to_img):\n",
        "  max_dim = 512\n",
        "  img = tf.io.read_file(path_to_img)\n",
        "  img = tf.image.decode_image(img, channels=3)\n",
        "  img = tf.image.convert_image_dtype(img, tf.float32)\n",
        "\n",
        "  shape = tf.cast(tf.shape(img)[:-1], tf.float32)\n",
        "  long_dim = max(shape)\n",
        "  scale = max_dim / long_dim\n",
        "\n",
        "  new_shape = tf.cast(shape * scale, tf.int32)\n",
        "\n",
        "  img = tf.image.resize(img, new_shape)\n",
        "  img = img[tf.newaxis, :]\n",
        "  return img"
      ],
      "metadata": {
        "id": "Q6eHVlLDvDxm"
      },
      "execution_count": null,
      "outputs": []
    },
    {
      "cell_type": "code",
      "source": [
        "content_path = tf.keras.utils.get_file('YellowLabradorLooking_new.jpg', 'https://storage.googleapis.com/download.tensorflow.org/example_images/YellowLabradorLooking_new.jpg')\n",
        "style_path = tf.keras.utils.get_file('kandinsky5.jpg','https://storage.googleapis.com/download.tensorflow.org/example_images/Vassily_Kandinsky%2C_1913_-_Composition_7.jpg')"
      ],
      "metadata": {
        "id": "AeyZU8UGvKT1"
      },
      "execution_count": null,
      "outputs": []
    },
    {
      "cell_type": "code",
      "source": [
        "content_image = load_img(content_path)\n",
        "style_image = load_img(style_path)"
      ],
      "metadata": {
        "id": "gChZgp-OvMj_"
      },
      "execution_count": null,
      "outputs": []
    },
    {
      "cell_type": "markdown",
      "source": [
        "## Layers"
      ],
      "metadata": {
        "id": "l0FxhlynvPOi"
      }
    },
    {
      "cell_type": "code",
      "source": [
        "style_layers_vgg19 = ['block1_conv1','block2_conv1','block3_conv1','block4_conv1', 'block5_conv1']\n",
        "content_layer_vgg19 = ['block5_conv4']"
      ],
      "metadata": {
        "id": "7hSURy4EvO7q"
      },
      "execution_count": null,
      "outputs": []
    },
    {
      "cell_type": "markdown",
      "source": [
        "## Perform Style Transfer"
      ],
      "metadata": {
        "id": "OyKYrm8ovUDX"
      }
    },
    {
      "cell_type": "markdown",
      "source": [
        "### Models"
      ],
      "metadata": {
        "id": "oZq9kEbIvXj1"
      }
    },
    {
      "cell_type": "code",
      "source": [
        "from tensorflow.python.tools import module_util\n",
        "def VGG19_Model(layer_names):\n",
        "  \"\"\" Creates our model with access to intermediate layers. \n",
        "  \n",
        "  This function will load the VGG19 model and access the intermediate layers. \n",
        "  These layers will then be used to create a new model that will take input image\n",
        "  and return the outputs from these intermediate layers from the VGG model. \n",
        "  \n",
        "  Returns:\n",
        "    returns a keras model that takes image inputs and outputs the style and \n",
        "      content intermediate layers. \n",
        "  \"\"\"\n",
        "  # Load our model. We load pretrained VGG, trained on imagenet data (weights=’imagenet’)\n",
        "  vgg19 = tf.keras.applications.VGG19(include_top=False, weights='imagenet')\n",
        "  vgg19.trainable = False\n",
        "  # Get output layers corresponding to style and content layers \n",
        "  outputs = [vgg19.get_layer(name).output for name in layer_names]\n",
        "  # Build model \n",
        "  model = tf.keras.Model([vgg19.input], outputs)\n",
        "\n",
        "  return model "
      ],
      "metadata": {
        "id": "TELjNwlfvTaE"
      },
      "execution_count": null,
      "outputs": []
    },
    {
      "cell_type": "code",
      "source": [
        "class StyleExtractionModelVGG19(tf.keras.models.Model):\n",
        "  def __init__(self, style_layers, content_layers):\n",
        "    super(StyleExtractionModelVGG19, self).__init__()\n",
        "    self.vgg19_again = VGG19_Model(style_layers+content_layers)\n",
        "    self.style_layers = style_layers\n",
        "    self.content_layers = content_layers\n",
        "    self.num_style_layers = len(style_layers)\n",
        "    self.vgg19_again.trainable = False \n",
        "\n",
        "  def gram_matrix(self, input_tensor):\n",
        "    result = tf.linalg.einsum('bijc,bijd->bcd', input_tensor, input_tensor)\n",
        "    input_shape = tf.shape(input_tensor)\n",
        "    num_locations = tf.cast(input_shape[1]*input_shape[2], tf.float32)\n",
        "    return result/(num_locations)\n",
        "\n",
        "  def call(self, inputs):\n",
        "    \"Expects float input in [0,1]\"\n",
        "    inputs = inputs*255.0\n",
        "    preprocessed_input = tf.keras.applications.vgg19.preprocess_input(inputs)\n",
        "    # preprocessed_input = tf.reshape(preprocessed_input, [-1, 32, 32, 3])\n",
        "    outputs = self.vgg19_again(preprocessed_input)\n",
        "    style_outputs, content_outputs = (outputs[:self.num_style_layers],\n",
        "                                      outputs[self.num_style_layers:])\n",
        "\n",
        "    style_outputs = [self.gram_matrix(style_output)\n",
        "                    for style_output in style_outputs]\n",
        "\n",
        "    content_dict = {content_name: value\n",
        "                    for content_name, value\n",
        "                    in zip(self.content_layers, content_outputs)}\n",
        "\n",
        "    style_dict = {style_name: value\n",
        "                  for style_name, value\n",
        "                  in zip(self.style_layers, style_outputs)}\n",
        "\n",
        "    return {'content': content_dict, 'style': style_dict}"
      ],
      "metadata": {
        "id": "FgZO0tEhvkyP"
      },
      "execution_count": null,
      "outputs": []
    },
    {
      "cell_type": "code",
      "source": [
        "class StyleTrainingModelVGG19(tf.keras.models.Model):\n",
        "  def __init__(self, style_layers, content_layers):\n",
        "    super(StyleTrainingModelVGG19, self).__init__()\n",
        "    self.ExtractionModel = StyleExtractionModelVGG19(style_layers, content_layers)\n",
        "    self.opt = tf.optimizers.Adam(learning_rate=0.02, beta_1=0.99, epsilon=1e-1)\n",
        "    self.style_weight = 1e-2\n",
        "    self.content_weight = 1e4\n",
        "    self.style_targets = self.ExtractionModel(style_image)['style']\n",
        "    self.content_targets = self.ExtractionModel(content_image)['content']\n",
        "    self.num_style_layers = len(style_layers)\n",
        "    self.num_content_layers = len(content_layers)\n",
        "\n",
        "  def clip_0_1(self, image):\n",
        "    return tf.clip_by_value(image, clip_value_min=0.0, clip_value_max=1.0)\n",
        "\n",
        "  def tensor_to_image(self, tensor):\n",
        "    tensor = tensor*255\n",
        "    tensor = np.array(tensor, dtype=np.uint8)\n",
        "    if np.ndim(tensor)>3:\n",
        "      assert tensor.shape[0] == 1\n",
        "      tensor = tensor[0]\n",
        "    return PIL.Image.fromarray(tensor)\n",
        " \n",
        "  def style_content_loss(self, outputs):\n",
        "    style_outputs = outputs['style']\n",
        "    content_outputs = outputs['content']\n",
        "    style_loss = tf.add_n([tf.reduce_mean((style_outputs[name]-self.style_targets[name])**2) \n",
        "                          for name in style_outputs.keys()])\n",
        "    style_loss *= self.style_weight / self.num_style_layers\n",
        "\n",
        "    content_loss = tf.add_n([tf.reduce_mean((content_outputs[name]-self.content_targets[name])**2) \n",
        "                            for name in content_outputs.keys()])\n",
        "    content_loss *= self.content_weight / self.num_content_layers\n",
        "    loss = style_loss + content_loss\n",
        "    return loss\n",
        "\n",
        "  @tf.function()\n",
        "  def train_step(self, img):\n",
        "    with tf.GradientTape() as tape:\n",
        "      outputs = self.ExtractionModel(img)\n",
        "      loss = self.style_content_loss(outputs)\n",
        "\n",
        "    grad = tape.gradient(loss, img)\n",
        "    self.opt.apply_gradients([(grad, img)])\n",
        "    img.assign(self.clip_0_1(img))"
      ],
      "metadata": {
        "id": "mFYqTWXVvoh0"
      },
      "execution_count": null,
      "outputs": []
    },
    {
      "cell_type": "markdown",
      "source": [
        "### Image Trainingsteps"
      ],
      "metadata": {
        "id": "g9M9d8sHvzDU"
      }
    },
    {
      "cell_type": "code",
      "source": [
        "MyModelVGG19 = StyleTrainingModelVGG19(style_layers_vgg19, content_layer_vgg19)\n",
        "image = tf.Variable(content_image)\n",
        "\n",
        "for i in range(100):\n",
        "  print(f'Working on Trainingstep {i}...')\n",
        "  MyModelVGG19.train_step(image)\n",
        "print('Trainingsteps Done')"
      ],
      "metadata": {
        "id": "2XjO1z0Rv6T0"
      },
      "execution_count": null,
      "outputs": []
    },
    {
      "cell_type": "code",
      "source": [
        "final_image = MyModelVGG19.tensor_to_image(image)\n",
        "final_image"
      ],
      "metadata": {
        "id": "LK177uj-wB_y"
      },
      "execution_count": null,
      "outputs": []
    }
  ]
}

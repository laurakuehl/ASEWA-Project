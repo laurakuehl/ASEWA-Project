{
  "nbformat": 4,
  "nbformat_minor": 0,
  "metadata": {
    "colab": {
      "name": "ASEWA-VGG19-Own-Model-Plus-Weights.ipynb",
      "provenance": [],
      "collapsed_sections": []
    },
    "kernelspec": {
      "name": "python3",
      "display_name": "Python 3"
    },
    "language_info": {
      "name": "python"
    }
  },
  "cells": [
    {
      "cell_type": "markdown",
      "source": [
        "# ASEWA Project - VGG19\n",
        "Using the weights of a pretrained VGG19 on our own VGG19 and performing Style Transfer\n",
        "---\n",
        "Janina Klarmann, Laura Kühl"
      ],
      "metadata": {
        "id": "o7VsCNiJr2P3"
      }
    },
    {
      "cell_type": "markdown",
      "source": [
        "## Setup"
      ],
      "metadata": {
        "id": "iYLXkNn7sLVf"
      }
    },
    {
      "cell_type": "code",
      "execution_count": null,
      "metadata": {
        "id": "DNwE9aQSr1mQ"
      },
      "outputs": [],
      "source": [
        "import tensorflow as tf\n",
        "import numpy as np\n",
        "from torchvision import transforms\n",
        "import tensorflow_datasets as tfds\n",
        "from keras.preprocessing.image import ImageDataGenerator\n",
        "import math\n",
        "\n",
        "import PIL.Image\n",
        "import IPython.display as display\n",
        "import matplotlib.pyplot as plt\n",
        "import matplotlib as mpl\n",
        "mpl.rcParams['figure.figsize'] = (12, 12)\n",
        "mpl.rcParams['axes.grid'] = False\n",
        "\n",
        "import time\n",
        "import functools\n",
        "\n",
        "import tqdm\n",
        "import datetime"
      ]
    },
    {
      "cell_type": "markdown",
      "source": [
        "## Own VGG19 Model"
      ],
      "metadata": {
        "id": "YIVWpS-isRiJ"
      }
    },
    {
      "cell_type": "code",
      "source": [
        "# Creating a VGG19 Model\n",
        "class Our_Own_VGG19_Model(tf.keras.Sequential):\n",
        "  def __init__(self):\n",
        "    super(Our_Own_VGG19_Model,self).__init__()\n",
        "    self.add(tf.keras.layers.Conv2D(32, (3, 3), padding=\"same\", activation='relu', name='convlayer11', input_shape=(224,224,3)))\n",
        "    self.add(tf.keras.layers.Conv2D(32, (3, 3), padding=\"same\", activation='relu', name='convlayer12'))\n",
        "    self.add(tf.keras.layers.MaxPool2D(pool_size=2,strides=2))\n",
        "    self.add(tf.keras.layers.Conv2D(64, (3, 3), padding=\"same\", activation='relu', name='convlayer21'))\n",
        "    self.add(tf.keras.layers.Conv2D(64, (3, 3), padding=\"same\", activation='relu', name='convlayer22'))\n",
        "    self.add(tf.keras.layers.MaxPool2D(pool_size=2, strides=2))\n",
        "    self.add(tf.keras.layers.Conv2D(128, (3, 3), padding=\"same\", activation='relu', name='convlayer31'))\n",
        "    self.add(tf.keras.layers.Conv2D(128, (3, 3), padding=\"same\", activation='relu', name='convlayer32'))\n",
        "    self.add(tf.keras.layers.Conv2D(128, (3, 3), padding=\"same\", activation='relu', name='convlayer33'))\n",
        "    self.add(tf.keras.layers.Conv2D(128, (3, 3), padding=\"same\", activation='relu', name='convlayer34'))\n",
        "    self.add(tf.keras.layers.MaxPool2D(pool_size=2, strides=2))\n",
        "    self.add(tf.keras.layers.Conv2D(265, (3, 3), padding=\"same\", activation='relu', name='convlayer41'))\n",
        "    self.add(tf.keras.layers.Conv2D(265, (3, 3), padding=\"same\", activation='relu', name='convlayer42'))\n",
        "    self.add(tf.keras.layers.Conv2D(265, (3, 3), padding=\"same\", activation='relu', name='convlayer43'))\n",
        "    self.add(tf.keras.layers.Conv2D(265, (3, 3), padding=\"same\", activation='relu', name='convlayer44'))\n",
        "    self.add(tf.keras.layers.MaxPool2D(pool_size=2, strides=2))\n",
        "    self.add(tf.keras.layers.Conv2D(265, (3, 3), padding=\"same\", activation='relu', name='convlayer51'))\n",
        "    self.add(tf.keras.layers.Conv2D(265, (3, 3), padding=\"same\", activation='relu', name='convlayer52'))\n",
        "    self.add(tf.keras.layers.Conv2D(265, (3, 3), padding=\"same\", activation='relu', name='convlayer53'))\n",
        "    self.add(tf.keras.layers.Conv2D(265, (3, 3), padding=\"same\", activation='relu', name='convlayer54'))\n",
        "    self.add(tf.keras.layers.MaxPool2D(pool_size=2, strides=2))\n",
        "    # self.add(tf.keras.layers.GlobalAveragePooling2D())\n",
        "    self.add(tf.keras.layers.Flatten())\n",
        "    self.add(tf.keras.layers.Dense(4096, activation=tf.nn.relu))\n",
        "    self.add(tf.keras.layers.Dense(4096, activation=tf.nn.relu))\n",
        "    self.add(tf.keras.layers.Dense(10, activation=tf.nn.softmax))\n",
        "    # self.build((None, None, None, 3))\n",
        "    self.compile(optimizer= tf.keras.optimizers.Adam(0.00001), loss='categorical_crossentropy', metrics=['accuracy'])"
      ],
      "metadata": {
        "id": "uf6EmAmNsRSx"
      },
      "execution_count": null,
      "outputs": []
    },
    {
      "cell_type": "markdown",
      "source": [
        "## Load Weights"
      ],
      "metadata": {
        "id": "x_OuPeBmshMe"
      }
    },
    {
      "cell_type": "code",
      "source": [
        "ourmodel = Our_Own_VGG19_Model()"
      ],
      "metadata": {
        "id": "l3e4wBitsi8J"
      },
      "execution_count": null,
      "outputs": []
    },
    {
      "cell_type": "code",
      "source": [
        "import requests\n",
        "url = \"https://github.com/fchollet/deep-learning-models/releases/download/v0.1/vgg19_weights_tf_dim_ordering_tf_kernels.h5\"\n",
        "r = requests.get(url, allow_redirects=True)\n",
        "open('vgg19_weights_tf_dim_ordering_tf_kernels.h5', 'wb').write(r.content)"
      ],
      "metadata": {
        "id": "QRCrt0eAsmzQ"
      },
      "execution_count": null,
      "outputs": []
    },
    {
      "cell_type": "code",
      "source": [
        "# Loads the weights\n",
        "ourmodel.load_weights(\"vgg19_weights_tf_dim_ordering_tf_kernels.h5\")"
      ],
      "metadata": {
        "id": "DfrMyCLUsrov"
      },
      "execution_count": null,
      "outputs": []
    },
    {
      "cell_type": "markdown",
      "source": [
        "## Layers"
      ],
      "metadata": {
        "id": "ClVrsYLzsvM0"
      }
    },
    {
      "cell_type": "code",
      "source": [
        "style_layers_our_own_vgg19 = ['convlayer11','convlayer21','convlayer31','convlayer41', 'convlayer51']\n",
        "content_layer_our_own_vgg19 = ['convlayer54']"
      ],
      "metadata": {
        "id": "U11Z6s4esxdx"
      },
      "execution_count": null,
      "outputs": []
    },
    {
      "cell_type": "markdown",
      "source": [
        "## Images"
      ],
      "metadata": {
        "id": "KpEJUMPSs5HQ"
      }
    },
    {
      "cell_type": "code",
      "source": [
        "content_path = tf.keras.utils.get_file('YellowLabradorLooking_new.jpg', 'https://storage.googleapis.com/download.tensorflow.org/example_images/YellowLabradorLooking_new.jpg')\n",
        "style_path = tf.keras.utils.get_file('kandinsky5.jpg','https://storage.googleapis.com/download.tensorflow.org/example_images/Vassily_Kandinsky%2C_1913_-_Composition_7.jpg')"
      ],
      "metadata": {
        "id": "uibohvLBs-Li"
      },
      "execution_count": null,
      "outputs": []
    },
    {
      "cell_type": "code",
      "source": [
        "# Define a function to load an image and limit its maximum dimension to 512 pixels.\n",
        "def load_img(path_to_img):\n",
        "  max_dim = 512\n",
        "  img = tf.io.read_file(path_to_img)\n",
        "  img = tf.image.decode_image(img, channels=3)\n",
        "  img = tf.image.convert_image_dtype(img, tf.float32)\n",
        "\n",
        "  shape = tf.cast(tf.shape(img)[:-1], tf.float32)\n",
        "  long_dim = max(shape)\n",
        "  scale = max_dim / long_dim\n",
        "\n",
        "  new_shape = tf.cast(shape * scale, tf.int32)\n",
        "\n",
        "  img = tf.image.resize(img, new_shape)\n",
        "  img = img[tf.newaxis, :]\n",
        "  return img"
      ],
      "metadata": {
        "id": "mXAmiPe6tBpi"
      },
      "execution_count": null,
      "outputs": []
    },
    {
      "cell_type": "code",
      "source": [
        "content_image = load_img(content_path)\n",
        "style_image = load_img(style_path)"
      ],
      "metadata": {
        "id": "fLiT1VBAtDyY"
      },
      "execution_count": null,
      "outputs": []
    },
    {
      "cell_type": "markdown",
      "source": [
        "## Style Transfer"
      ],
      "metadata": {
        "id": "cayAPtcstFti"
      }
    },
    {
      "cell_type": "markdown",
      "source": [
        "### Models"
      ],
      "metadata": {
        "id": "LgiGgfJYt0Mq"
      }
    },
    {
      "cell_type": "code",
      "source": [
        "import requests\n",
        "def Create_Our_Own_VGG19_Model(layer_names):\n",
        "  \"\"\" Creates our model with access to intermediate layers. \n",
        "  \n",
        "  This function will load the VGG19 model and access the intermediate layers. \n",
        "  These layers will then be used to create a new model that will take input image\n",
        "  and return the outputs from these intermediate layers from the VGG model. \n",
        "  \n",
        "  Returns:\n",
        "    returns a keras model that takes image inputs and outputs the style and \n",
        "      content intermediate layers. \n",
        "  \"\"\"\n",
        "  #Load the weights\n",
        "  url = \"https://github.com/fchollet/deep-learning-models/releases/download/v0.1/vgg19_weights_tf_dim_ordering_tf_kernels.h5\"\n",
        "  r = requests.get(url, allow_redirects=True)\n",
        "  open('vgg19_weights_tf_dim_ordering_tf_kernels.h5', 'wb').write(r.content)\n",
        "  # Load our model\n",
        "  ownvgg19.load_weights(\"vgg19_weights_tf_dim_ordering_tf_kernels.h5\")\n",
        "  # Get output layers corresponding to style and content layers \n",
        "  outputs = [ownvgg19.get_layer(name).output for name in layer_names]\n",
        "  # Build model \n",
        "  model = tf.keras.Model([ownvgg19.input], outputs)\n",
        "\n",
        "  return model "
      ],
      "metadata": {
        "id": "EFHXMdlitRF7"
      },
      "execution_count": null,
      "outputs": []
    },
    {
      "cell_type": "code",
      "source": [
        "class StyleExtractionModelOurOwnVgg19(tf.keras.models.Model):\n",
        "  def __init__(self, style_layers, content_layers):\n",
        "    super(StyleExtractionModelOurOwnVgg19, self).__init__()\n",
        "    self.ourownvgg19 = Create_Our_Own_VGG19_Model(style_layers+content_layers)\n",
        "    self.style_layers = style_layers\n",
        "    self.content_layers = content_layers\n",
        "    self.num_style_layers = len(style_layers)\n",
        "    self.ourownvgg19.trainable = False \n",
        "\n",
        "  def gram_matrix(self, input_tensor):\n",
        "    result = tf.linalg.einsum('bijc,bijd->bcd', input_tensor, input_tensor)\n",
        "    input_shape = tf.shape(input_tensor)\n",
        "    num_locations = tf.cast(input_shape[1]*input_shape[2], tf.float32)\n",
        "    return result/(num_locations)\n",
        "\n",
        "  def call(self, inputs):\n",
        "    \"Expects float input in [0,1]\"\n",
        "    inputs = inputs*255.0\n",
        "    preprocessed_input = tf.keras.applications.vgg19.preprocess_input(inputs)\n",
        "    preprocessed_input = tf.image.resize(preprocessed_input, [224,224])\n",
        "    outputs = self.ourownvgg19(preprocessed_input)\n",
        "    style_outputs, content_outputs = (outputs[:self.num_style_layers],\n",
        "                                      outputs[self.num_style_layers:])\n",
        "\n",
        "    style_outputs = [self.gram_matrix(style_output)\n",
        "                    for style_output in style_outputs]\n",
        "\n",
        "    content_dict = {content_name: value\n",
        "                    for content_name, value\n",
        "                    in zip(self.content_layers, content_outputs)}\n",
        "\n",
        "    style_dict = {style_name: value\n",
        "                  for style_name, value\n",
        "                  in zip(self.style_layers, style_outputs)}\n",
        "\n",
        "    return {'content': content_dict, 'style': style_dict}"
      ],
      "metadata": {
        "id": "c6iFBXRCtki9"
      },
      "execution_count": null,
      "outputs": []
    },
    {
      "cell_type": "code",
      "source": [
        "class StyleTrainingModelOurOwnVGG19(tf.keras.models.Model):\n",
        "  def __init__(self, style_layers, content_layers):\n",
        "    super(StyleTrainingModelOurOwnVGG19, self).__init__()\n",
        "    self.ExtractionModel = StyleExtractionModelOurOwnVgg19(style_layers, content_layers)\n",
        "    self.opt = tf.optimizers.Adam(learning_rate=0.02, beta_1=0.99, epsilon=1e-1)\n",
        "    self.style_weight = 1e-2\n",
        "    self.content_weight = 1e4\n",
        "    self.style_targets = self.ExtractionModel(style_image)['style']\n",
        "    self.content_targets = self.ExtractionModel(content_image)['content']\n",
        "    self.num_style_layers = len(style_layers)\n",
        "    self.num_content_layers = len(content_layers)\n",
        "\n",
        "  def clip_0_1(self, image):\n",
        "    return tf.clip_by_value(image, clip_value_min=0.0, clip_value_max=1.0)\n",
        "\n",
        "  def tensor_to_image(self, tensor):\n",
        "    tensor = tensor*255\n",
        "    tensor = np.array(tensor, dtype=np.uint8)\n",
        "    if np.ndim(tensor)>3:\n",
        "      assert tensor.shape[0] == 1\n",
        "      tensor = tensor[0]\n",
        "    return PIL.Image.fromarray(tensor)\n",
        " \n",
        "  def style_content_loss(self, outputs):\n",
        "    style_outputs = outputs['style']\n",
        "    content_outputs = outputs['content']\n",
        "    style_loss = tf.add_n([tf.reduce_mean((style_outputs[name]-self.style_targets[name])**2) \n",
        "                          for name in style_outputs.keys()])\n",
        "    style_loss *= self.style_weight / self.num_style_layers\n",
        "\n",
        "    content_loss = tf.add_n([tf.reduce_mean((content_outputs[name]-self.content_targets[name])**2) \n",
        "                            for name in content_outputs.keys()])\n",
        "    content_loss *= self.content_weight / self.num_content_layers\n",
        "    loss = style_loss + content_loss\n",
        "    return loss\n",
        "\n",
        "  @tf.function()\n",
        "  def train_step(self, img):\n",
        "    with tf.GradientTape() as tape:\n",
        "      outputs = self.ExtractionModel(img)\n",
        "      loss = self.style_content_loss(outputs)\n",
        "\n",
        "    grad = tape.gradient(loss, img)\n",
        "    self.opt.apply_gradients([(grad, img)])\n",
        "    img.assign(self.clip_0_1(img))"
      ],
      "metadata": {
        "id": "lMrjmZF6tu4n"
      },
      "execution_count": null,
      "outputs": []
    },
    {
      "cell_type": "markdown",
      "source": [
        "### Image Trainingsteps"
      ],
      "metadata": {
        "id": "bsMFsSbTt54J"
      }
    },
    {
      "cell_type": "code",
      "source": [
        "MyModelOurOwnVGG19 = StyleTrainingModelOurOwnVGG19(style_layers_our_own_vgg19, content_layer_our_own_vgg19)\n",
        "image = tf.Variable(content_image)"
      ],
      "metadata": {
        "id": "_CqEdRF2t91D"
      },
      "execution_count": null,
      "outputs": []
    },
    {
      "cell_type": "code",
      "source": [
        "for i in range(1000):\n",
        "  print(f'Working on Trainingstep {i}...')\n",
        "  MyModelOurOwnVGG19.train_step(image)"
      ],
      "metadata": {
        "id": "QFQ558SruA_G"
      },
      "execution_count": null,
      "outputs": []
    },
    {
      "cell_type": "code",
      "source": [
        "final_image = MyModelOurOwnVGG19.tensor_to_image(image)\n",
        "final_image"
      ],
      "metadata": {
        "id": "lziAlqyzuCf0"
      },
      "execution_count": null,
      "outputs": []
    }
  ]
}
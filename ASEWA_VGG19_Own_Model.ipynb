{
  "nbformat": 4,
  "nbformat_minor": 0,
  "metadata": {
    "colab": {
      "name": "ASEWA-VGG19-Own-Model.ipynb",
      "provenance": [],
      "collapsed_sections": []
    },
    "kernelspec": {
      "name": "python3",
      "display_name": "Python 3"
    },
    "language_info": {
      "name": "python"
    }
  },
  "cells": [
    {
      "cell_type": "markdown",
      "source": [
        "# ASEWA Project - VGG19\n",
        "Creating an own VGG19, training it and then perform Style Transfer\n",
        "---\n",
        "Janina Klarmann, Laura Kühl"
      ],
      "metadata": {
        "id": "JxP-HMWgnAYa"
      }
    },
    {
      "cell_type": "markdown",
      "source": [
        "## Setup"
      ],
      "metadata": {
        "id": "FSWXFTRsnTgn"
      }
    },
    {
      "cell_type": "code",
      "source": [
        "import tensorflow as tf\n",
        "import numpy as np\n",
        "from torchvision import transforms\n",
        "import tensorflow_datasets as tfds\n",
        "from keras.preprocessing.image import ImageDataGenerator\n",
        "import math\n",
        "\n",
        "import PIL.Image\n",
        "import IPython.display as display\n",
        "import matplotlib.pyplot as plt\n",
        "import matplotlib as mpl\n",
        "mpl.rcParams['figure.figsize'] = (12, 12)\n",
        "mpl.rcParams['axes.grid'] = False\n",
        "\n",
        "import time\n",
        "import functools\n",
        "\n",
        "import tqdm\n",
        "import datetime"
      ],
      "metadata": {
        "id": "W3BnYIyYnRei"
      },
      "execution_count": null,
      "outputs": []
    },
    {
      "cell_type": "markdown",
      "source": [
        "## Own VGG19 Implementation and Training"
      ],
      "metadata": {
        "id": "RJvLinWknZ8K"
      }
    },
    {
      "cell_type": "markdown",
      "source": [
        "### Loading Data"
      ],
      "metadata": {
        "id": "5uPpj0K6nhRQ"
      }
    },
    {
      "cell_type": "markdown",
      "source": [
        "#### Cifar10"
      ],
      "metadata": {
        "id": "grfZg51NnsA4"
      }
    },
    {
      "cell_type": "code",
      "execution_count": null,
      "metadata": {
        "id": "H5K3IyCDm0zX"
      },
      "outputs": [],
      "source": [
        "# load the dataset, we use cifar10\n",
        "(train_ds, test_ds, valid_ds), metadata = tfds.load('cifar10', split=['train[:70%]','train[70%:85%]', 'train[85%:]'], as_supervised"
      ]
    },
    {
      "cell_type": "markdown",
      "source": [
        "#### Imagenette"
      ],
      "metadata": {
        "id": "AqZUXqezn3tp"
      }
    },
    {
      "cell_type": "code",
      "source": [
        "# imagenette/full-size-v2\n",
        "(train_ds, test_ds, valid_ds), metadata = tfds.load('imagenette/full-size-v2', split=['train[:70%]','train[70%:85%]', 'train[85%:]'], as_supervised=True, with_info=True)"
      ],
      "metadata": {
        "id": "C-UM3YoFoDZ1"
      },
      "execution_count": null,
      "outputs": []
    },
    {
      "cell_type": "markdown",
      "source": [
        "### Data Preprocessing"
      ],
      "metadata": {
        "id": "RNlMmp7joHZl"
      }
    },
    {
      "cell_type": "code",
      "source": [
        "# data preprocessing\n",
        "def preprocess(data):\n",
        "  'preprocesses the dataset'\n",
        "  #convert data from uint8 to float32\n",
        "  data = data.map(lambda img, target: (tf.cast(img, tf.float32), target))\n",
        "  #resize images\n",
        "  # data = data.map(lambda img, target: (tf.image.resize(img, [224,224]), target))\n",
        "  #normalization\n",
        "  data = data.map(lambda img, target: ((img/128.)-1., target))\n",
        "  # create one-hot targets\n",
        "  data = data.map(lambda img, target: (img, tf.one_hot(target, depth=10)))\n",
        "  #cache this progress in memory, as there is no need to redo it; it is deterministic after all\n",
        "  data = data.cache().shuffle(1000).batch(64).prefetch(20)\n",
        "  return data\n",
        "\n",
        "\n",
        "train_data = train_ds.apply(preprocess)\n",
        "valida_data = valid_ds.apply(preprocess) \n",
        "test_data = test_ds.apply(preprocess)"
      ],
      "metadata": {
        "id": "dsE4p9NJoO0k"
      },
      "execution_count": null,
      "outputs": []
    },
    {
      "cell_type": "markdown",
      "source": [
        "### VGG19 Model"
      ],
      "metadata": {
        "id": "fZco9TzIoN8m"
      }
    },
    {
      "cell_type": "code",
      "source": [
        "# Creating a VGG19 Model\n",
        "model_VGG19 = tf.keras.Sequential()\n",
        "model_VGG19.add(tf.keras.layers.Conv2D(64, (3, 3), padding=\"same\", activation='relu', name='convlayer11'))\n",
        "model_VGG19.add(tf.keras.layers.Conv2D(64, (3, 3), padding=\"same\", activation='relu', name='convlayer12'))\n",
        "model_VGG19.add(tf.keras.layers.MaxPool2D(pool_size=2,strides=2))\n",
        "model_VGG19.add(tf.keras.layers.Conv2D(128, (3, 3), padding=\"same\", activation='relu', name='convlayer21'))\n",
        "model_VGG19.add(tf.keras.layers.Conv2D(128, (3, 3), padding=\"same\", activation='relu', name='convlayer22'))\n",
        "model_VGG19.add(tf.keras.layers.MaxPool2D(pool_size=2, strides=2))\n",
        "model_VGG19.add(tf.keras.layers.Conv2D(256, (3, 3), padding=\"same\", activation='relu', name='convlayer31'))\n",
        "model_VGG19.add(tf.keras.layers.Conv2D(256, (3, 3), padding=\"same\", activation='relu', name='convlayer32'))\n",
        "model_VGG19.add(tf.keras.layers.Conv2D(256, (3, 3), padding=\"same\", activation='relu', name='convlayer33'))\n",
        "model_VGG19.add(tf.keras.layers.Conv2D(256, (3, 3), padding=\"same\", activation='relu', name='convlayer34'))\n",
        "model_VGG19.add(tf.keras.layers.MaxPool2D(pool_size=2, strides=2))\n",
        "model_VGG19.add(tf.keras.layers.Conv2D(512, (3, 3), padding=\"same\", activation='relu', name='convlayer41'))\n",
        "model_VGG19.add(tf.keras.layers.Conv2D(512, (3, 3), padding=\"same\", activation='relu', name='convlayer42'))\n",
        "model_VGG19.add(tf.keras.layers.Conv2D(512, (3, 3), padding=\"same\", activation='relu', name='convlayer43'))\n",
        "model_VGG19.add(tf.keras.layers.Conv2D(512, (3, 3), padding=\"same\", activation='relu', name='convlayer44'))\n",
        "model_VGG19.add(tf.keras.layers.MaxPool2D(pool_size=2, strides=2))\n",
        "model_VGG19.add(tf.keras.layers.Conv2D(512, (3, 3), padding=\"same\", activation='relu', name='convlayer51'))\n",
        "model_VGG19.add(tf.keras.layers.Conv2D(512, (3, 3), padding=\"same\", activation='relu', name='convlayer52'))\n",
        "model_VGG19.add(tf.keras.layers.Conv2D(512, (3, 3), padding=\"same\", activation='relu', name='convlayer53'))\n",
        "model_VGG19.add(tf.keras.layers.Conv2D(512, (3, 3), padding=\"same\", activation='relu', name='convlayer54'))\n",
        "model_VGG19.add(tf.keras.layers.MaxPool2D(pool_size=2, strides=2))\n",
        "model_VGG19.add(tf.keras.layers.GlobalAveragePooling2D())\n",
        "model_VGG19.add(tf.keras.layers.Dense(4096, activation=tf.nn.relu))\n",
        "model_VGG19.add(tf.keras.layers.Dense(4096, activation=tf.nn.relu))\n",
        "model_VGG19.add(tf.keras.layers.Dense(10, activation=tf.nn.softmax))\n",
        "model_VGG19.build((None, None, None, 3))"
      ],
      "metadata": {
        "id": "BJOfxec6oYdS"
      },
      "execution_count": null,
      "outputs": []
    },
    {
      "cell_type": "markdown",
      "source": [
        "### Training"
      ],
      "metadata": {
        "id": "-nBbTR6Fodov"
      }
    },
    {
      "cell_type": "code",
      "source": [
        "def train_step(model, input, target, loss_function, optimizer):\n",
        "  # loss_object and optimizer_object are instances of respective tensorflow classes\n",
        "  with tf.GradientTape() as tape:\n",
        "    prediction = model(input)\n",
        "    loss = loss_function(target, prediction)\n",
        "    \n",
        "  gradients = tape.gradient(loss, model.trainable_variables)\n",
        "  optimizer.apply_gradients(zip(gradients, model.trainable_variables))\n",
        "  return loss\n",
        "\n",
        "\n",
        "def test(model, test_data, loss_function):\n",
        "  # test over complete test data\n",
        "\n",
        "  test_accuracy_aggregator = []\n",
        "  test_loss_aggregator = []\n",
        "\n",
        "  for (input, target) in test_data:\n",
        "    prediction = model(input)\n",
        "    sample_test_loss = loss_function(target, prediction)\n",
        "    sample_test_accuracy = np.argmax(target, axis=1) == np.argmax(prediction, axis=1)\n",
        "    sample_test_accuracy = np.mean(sample_test_accuracy)\n",
        "    test_loss_aggregator.append(sample_test_loss.numpy())\n",
        "    test_accuracy_aggregator.append(sample_test_accuracy)\n",
        "\n",
        "  test_loss = tf.reduce_mean(test_loss_aggregator)\n",
        "  test_accuracy = tf.reduce_mean(test_accuracy_aggregator)\n",
        "\n",
        "  return test_loss, test_accuracy"
      ],
      "metadata": {
        "id": "vDf89Nfxof48"
      },
      "execution_count": null,
      "outputs": []
    },
    {
      "cell_type": "code",
      "source": [
        "# Baseline model for comparison\n",
        "tf.keras.backend.clear_session()\n",
        "\n",
        "# load tensorboard extension\n",
        "# %load_ext tensorboard\n",
        "\n",
        "train_dataset = train_data\n",
        "test_dataset = test_data\n",
        "validation_dataset = valida_data\n",
        "\n",
        "### Hyperparameters\n",
        "num_epochs = 30\n",
        "learning_rate = 0.00001\n",
        "\n",
        "# Initialize the loss: categorical cross entropy. Check out 'tf.keras.losses'.\n",
        "cross_entropy_loss = tf.keras.losses.CategoricalCrossentropy()\n",
        "# Initialize the optimizer: Adam with default parameters. Check out 'tf.keras.optimizers'\n",
        "optimizer = tf.keras.optimizers.Adam(learning_rate)\n",
        "\n",
        "\n",
        "#define the date time to log Tensorboard\n",
        "current_time = datetime.datetime.now().strftime(\"%Y%m%d-%H%M%S\")\n",
        "train_log_dir = 'logs/gradient_tape/' + current_time + '/train'\n",
        "test_log_dir = 'logs/gradient_tape/' + current_time + '/test'\n",
        "train_summary_writer = tf.summary.create_file_writer(train_log_dir)\n",
        "test_summary_writer = tf.summary.create_file_writer(test_log_dir)\n",
        "\n",
        "\n",
        "# # open the tensorboard to inspect the data for the 100 steps\n",
        "# %tensorboard --logdir logs/\n",
        "\n",
        "model = model_VGG19\n",
        "# Initialize lists for later visualization.\n",
        "train_losses = []\n",
        "\n",
        "valid_losses = []\n",
        "valid_accuracies = []\n",
        "\n",
        "test_losses = []\n",
        "test_accuracies = []\n",
        "\n",
        "#testing on the validation dataset once before we begin\n",
        "valid_loss, valid_accuracy = test(model, validation_dataset, cross_entropy_loss)\n",
        "valid_losses.append(valid_loss)\n",
        "valid_accuracies.append(valid_accuracy)\n",
        "\n",
        "# check how model performs on train data once before we begin\n",
        "train_loss, _ = test(model, train_dataset,cross_entropy_loss)\n",
        "train_losses.append(train_loss)\n",
        "\n",
        "# We train for num_epochs epochs.\n",
        "for epoch in range(num_epochs):\n",
        "    print(f'Epoch: {str(epoch)} starting with accuracy {valid_accuracies[-1]}')\n",
        "\n",
        "    #training (and checking in with training)\n",
        "    epoch_loss_agg = []\n",
        "    for input,target in train_dataset:\n",
        "        train_loss = train_step(model, input, target, cross_entropy_loss, optimizer)\n",
        "        epoch_loss_agg.append(train_loss)\n",
        "    \n",
        "    mean_train_loss = np.mean(epoch_loss_agg)\n",
        "    \n",
        "\n",
        "    # logging the validation metrics to the log file which is used by tensorboard\n",
        "    with train_summary_writer.as_default():\n",
        "\n",
        "        tf.summary.scalar(\"Train Loss\", mean_train_loss, step=epoch)\n",
        "\n",
        "    #testing, so we can track accuracy and test loss\n",
        "    valid_loss, valid_accuracy = test(model, validation_dataset, cross_entropy_loss)\n",
        "    valid_losses.append(valid_loss)\n",
        "    valid_accuracies.append(valid_accuracy)"
      ],
      "metadata": {
        "id": "Q20wRPw8olr1"
      },
      "execution_count": null,
      "outputs": []
    },
    {
      "cell_type": "markdown",
      "source": [
        "## Style Transfer"
      ],
      "metadata": {
        "id": "o2s88hBMoy13"
      }
    },
    {
      "cell_type": "markdown",
      "source": [
        "### Accessing Intermediate VGG19 Layers"
      ],
      "metadata": {
        "id": "Ilw5xMIrpCcE"
      }
    },
    {
      "cell_type": "code",
      "source": [
        "def Our_VGG19_Model(layer_names):\n",
        "  \"\"\" Creates our model with access to intermediate layers. \n",
        "  \n",
        "  This function will load the VGG19 model and access the intermediate layers. \n",
        "  These layers will then be used to create a new model that will take input image\n",
        "  and return the outputs from these intermediate layers from the VGG model. \n",
        "  \n",
        "  Returns:\n",
        "    returns a keras model that takes image inputs and outputs the style and \n",
        "      content intermediate layers. \n",
        "  \"\"\"\n",
        "  # Load our model. We load pretrained VGG, trained on imagenet data (weights=’imagenet’)\n",
        "  vgg = model_VGG19\n",
        "  vgg.trainable = False\n",
        "  # Get output layers corresponding to style and content layers \n",
        "  outputs = [vgg.get_layer(name).output for name in layer_names]\n",
        "  # Build model \n",
        "  model = tf.keras.Model([vgg.input], outputs)\n",
        "\n",
        "  return model "
      ],
      "metadata": {
        "id": "E9He6Q0WpHma"
      },
      "execution_count": null,
      "outputs": []
    },
    {
      "cell_type": "markdown",
      "source": [
        "### Content and Style Layers"
      ],
      "metadata": {
        "id": "_vR2aaYBpM2s"
      }
    },
    {
      "cell_type": "code",
      "source": [
        "content_layer_names = ['convlayer52']\n",
        "style_layer_names = ['convlayer11', 'convlayer21','convlayer31','convlayer41','convlayer51']"
      ],
      "metadata": {
        "id": "PbFWpGlZpSpB"
      },
      "execution_count": null,
      "outputs": []
    },
    {
      "cell_type": "markdown",
      "source": [
        "### Input Images"
      ],
      "metadata": {
        "id": "qHz1MwFdpVWf"
      }
    },
    {
      "cell_type": "markdown",
      "source": [
        "#### Loading Images"
      ],
      "metadata": {
        "id": "UpotAR5vpYtn"
      }
    },
    {
      "cell_type": "code",
      "source": [
        "content_path = tf.keras.utils.get_file('YellowLabradorLooking_new.jpg', 'https://storage.googleapis.com/download.tensorflow.org/example_images/YellowLabradorLooking_new.jpg')\n",
        "style_path = tf.keras.utils.get_file('kandinsky5.jpg','https://storage.googleapis.com/download.tensorflow.org/example_images/Vassily_Kandinsky%2C_1913_-_"
      ],
      "metadata": {
        "id": "p1a5TUKSpaqS"
      },
      "execution_count": null,
      "outputs": []
    },
    {
      "cell_type": "markdown",
      "source": [
        "#### Image Preprocessing"
      ],
      "metadata": {
        "id": "aE8iNsfHpd7_"
      }
    },
    {
      "cell_type": "code",
      "source": [
        "# Define a function to load an image and limit its maximum dimension to 512 pixels.\n",
        "def load_img(path_to_img):\n",
        "  max_dim = 512\n",
        "  img = tf.io.read_file(path_to_img)\n",
        "  img = tf.image.decode_image(img, channels=3)\n",
        "  img = tf.image.convert_image_dtype(img, tf.float32)\n",
        "\n",
        "  shape = tf.cast(tf.shape(img)[:-1], tf.float32)\n",
        "  long_dim = max(shape)\n",
        "  scale = max_dim / long_dim\n",
        "\n",
        "  new_shape = tf.cast(shape * scale, tf.int32)\n",
        "\n",
        "  img = tf.image.resize(img, new_shape)\n",
        "  img = img[tf.newaxis, :]\n",
        "  return img\n",
        "\n",
        "content_image = load_img(content_path)\n",
        "style_image = load_img(style_path)"
      ],
      "metadata": {
        "id": "_wL_gFl4plg2"
      },
      "execution_count": null,
      "outputs": []
    },
    {
      "cell_type": "markdown",
      "source": [
        "### Style Transfer Models"
      ],
      "metadata": {
        "id": "JExYwMX6pqtK"
      }
    },
    {
      "cell_type": "markdown",
      "source": [
        "#### Style Extraction Model"
      ],
      "metadata": {
        "id": "EHYkGI5opw-W"
      }
    },
    {
      "cell_type": "code",
      "source": [
        "class StyleExtractionModel (tf.keras.models.Model):\n",
        "  def __init__(self, style_layers, content_layers):\n",
        "    super(StyleExtractionModel, self).__init__()\n",
        "    self.vgg19 = Our_VGG19_Model(style_layers+content_layers)\n",
        "    self.style_layers = style_layers\n",
        "    self.content_layers = content_layers\n",
        "    self.num_style_layers = len(style_layers)\n",
        "    self.vgg19.trainable = False \n",
        "\n",
        "  def gram_matrix(self, input_tensor):\n",
        "    result = tf.linalg.einsum('bijc,bijd->bcd', input_tensor, input_tensor)\n",
        "    input_shape = tf.shape(input_tensor)\n",
        "    num_locations = tf.cast(input_shape[1]*input_shape[2], tf.float32)\n",
        "    return result/(num_locations)\n",
        "\n",
        "  def call(self, inputs):\n",
        "    \"Expects float input in [0,1]\"#\n",
        "    inputs = inputs*255.0\n",
        "    preprocessed_input = tf.keras.applications.vgg19.preprocess_input(inputs)\n",
        "    outputs = self.vgg19(preprocessed_input)\n",
        "    style_outputs, content_outputs = (outputs[:self.num_style_layers],\n",
        "                                      outputs[self.num_style_layers:])\n",
        "\n",
        "    style_outputs = [self.gram_matrix(style_output)\n",
        "                    for style_output in style_outputs]\n",
        "\n",
        "    content_dict = {content_name: value\n",
        "                    for content_name, value\n",
        "                    in zip(self.content_layers, content_outputs)}\n",
        "\n",
        "    style_dict = {style_name: value\n",
        "                  for style_name, value\n",
        "                  in zip(self.style_layers, style_outputs)}\n",
        "\n",
        "    return {'content': content_dict, 'style': style_dict}"
      ],
      "metadata": {
        "id": "CM2aL9QrpudQ"
      },
      "execution_count": null,
      "outputs": []
    },
    {
      "cell_type": "markdown",
      "source": [
        "#### Style Training Model"
      ],
      "metadata": {
        "id": "bkwn-4Cvp3KX"
      }
    },
    {
      "cell_type": "code",
      "source": [
        "class StyleTrainingModel(tf.keras.models.Model):\n",
        "  def __init__(self, style_layers, content_layers):\n",
        "    super(StyleTrainingModel, self).__init__()\n",
        "    self.ExtractionModel = StyleExtractionModel(style_layers, content_layers)\n",
        "    self.opt = tf.optimizers.Adam(learning_rate=0.02, beta_1=0.99, epsilon=1e-1)\n",
        "    self.style_weight = 1e-2\n",
        "    self.content_weight = 1e4\n",
        "    self.style_targets = self.ExtractionModel(style_image)['style']\n",
        "    self.content_targets = self.ExtractionModel(content_image)['content']\n",
        "    self.num_style_layers = len(style_layers)\n",
        "    self.num_content_layers = len(content_layers)\n",
        "\n",
        "  def clip_0_1(self, image):\n",
        "    return tf.clip_by_value(image, clip_value_min=0.0, clip_value_max=1.0)\n",
        "\n",
        "  def tensor_to_image(self, tensor):\n",
        "    tensor = tensor*255\n",
        "    tensor = np.array(tensor, dtype=np.uint8)\n",
        "    if np.ndim(tensor)>3:\n",
        "      assert tensor.shape[0] == 1\n",
        "      tensor = tensor[0]\n",
        "    return PIL.Image.fromarray(tensor)\n",
        " \n",
        "  def style_content_loss(self, outputs):\n",
        "    style_outputs = outputs['style']\n",
        "    content_outputs = outputs['content']\n",
        "    style_loss = tf.add_n([tf.reduce_mean((style_outputs[name]-self.style_targets[name])**2) \n",
        "                          for name in style_outputs.keys()])\n",
        "    style_loss *= self.style_weight / self.num_style_layers\n",
        "\n",
        "    content_loss = tf.add_n([tf.reduce_mean((content_outputs[name]-self.content_targets[name])**2) \n",
        "                            for name in content_outputs.keys()])\n",
        "    content_loss *= self.content_weight / self.num_content_layers\n",
        "    loss = style_loss + content_loss\n",
        "    return loss\n",
        "\n",
        "  @tf.function()\n",
        "  def train_step(self, img):\n",
        "    with tf.GradientTape() as tape:\n",
        "      outputs = self.ExtractionModel(img)\n",
        "      loss = self.style_content_loss(outputs)\n",
        "\n",
        "    grad = tape.gradient(loss, img)\n",
        "    self.opt.apply_gradients([(grad, img)])\n",
        "    image.assign(self.clip_0_1(img))"
      ],
      "metadata": {
        "id": "t0b9LiEJp588"
      },
      "execution_count": null,
      "outputs": []
    },
    {
      "cell_type": "markdown",
      "source": [
        "#### Transfer Style"
      ],
      "metadata": {
        "id": "UXbd3GEVp9Qp"
      }
    },
    {
      "cell_type": "code",
      "source": [
        "def imshow(image, title=None):\n",
        "  if len(image.shape) > 3:\n",
        "    image = tf.squeeze(image, axis=0)\n",
        "\n",
        "  plt.imshow(image)\n",
        "  if title:\n",
        "    plt.title(title)\n",
        "\n",
        "content_image = load_img(content_path)\n",
        "style_image = load_img(style_path)\n",
        "\n",
        "plt.subplot(1, 2, 1)\n",
        "imshow(content_image, 'Content Image')\n",
        "\n",
        "plt.subplot(1, 2, 2)\n",
        "imshow(style_image, 'Style Image')"
      ],
      "metadata": {
        "id": "4lj6uek5qB6l"
      },
      "execution_count": null,
      "outputs": []
    },
    {
      "cell_type": "code",
      "source": [
        "MyModel = StyleTrainingModel(style_layer_names, content_layer_names)\n",
        "image = tf.Variable(content_image)\n",
        "\n",
        "for i in range(100):\n",
        "  print(f'Working on Trainingstep {i}...')\n",
        "  MyModel.train_step(image)\n",
        "print('\\n Final Image:')  \n",
        "MyModel.tensor_to_image(image)"
      ],
      "metadata": {
        "id": "ylLiEhhPqHMW"
      },
      "execution_count": null,
      "outputs": []
    }
  ]
}